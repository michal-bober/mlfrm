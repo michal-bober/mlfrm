{
 "cells": [
  {
   "cell_type": "markdown",
   "metadata": {},
   "source": [
    "# Return"
   ]
  },
  {
   "cell_type": "code",
   "execution_count": 11,
   "metadata": {},
   "outputs": [],
   "source": [
    "import statsmodels.api as sm\n",
    "import numpy as np\n",
    "import plotly.graph_objs as go\n",
    "import matplotlib.pyplot as plt\n",
    "import plotly\n",
    "import warnings\n",
    "warnings.filterwarnings('ignore')"
   ]
  },
  {
   "cell_type": "code",
   "execution_count": 12,
   "metadata": {},
   "outputs": [],
   "source": [
    "n_assets = 5\n",
    "n_simulation = 500"
   ]
  },
  {
   "cell_type": "code",
   "execution_count": 13,
   "metadata": {},
   "outputs": [],
   "source": [
    "returns = np.random.randn(n_assets, n_simulation)"
   ]
  },
  {
   "cell_type": "code",
   "execution_count": 15,
   "metadata": {},
   "outputs": [],
   "source": [
    "rand = np.random.rand(n_assets)\n",
    "weights = rand / sum(rand)\n",
    "\n",
    "def port_return(returns):\n",
    "    rets = np.mean(returns, axis = 1)\n",
    "    cov = np.cov(rets.T, aweights=weights, ddof=1)\n",
    "    portfolio_returns = np.dot(weights, rets.T)\n",
    "    portfolio_std_dev = np.sqrt(np.dot(weights, np.dot(cov, weights)))\n",
    "    return portfolio_returns, portfolio_std_dev"
   ]
  },
  {
   "cell_type": "code",
   "execution_count": 16,
   "metadata": {},
   "outputs": [],
   "source": [
    "portfolio_returns, portfolio_std_dev = port_return(returns)"
   ]
  },
  {
   "cell_type": "code",
   "execution_count": 17,
   "metadata": {},
   "outputs": [
    {
     "name": "stdout",
     "output_type": "stream",
     "text": [
      "0.025255990507512722\n",
      "0.019797959468882447\n"
     ]
    }
   ],
   "source": [
    "print(portfolio_returns)\n",
    "print(portfolio_std_dev)"
   ]
  },
  {
   "cell_type": "code",
   "execution_count": 19,
   "metadata": {},
   "outputs": [],
   "source": [
    "portfolio = np.array([port_return(np.random.randn(n_assets, i)) for i in range(1, 101)])"
   ]
  },
  {
   "cell_type": "code",
   "execution_count": 21,
   "metadata": {},
   "outputs": [],
   "source": [
    "best_fit = sm.OLS(portfolio[:, 1], sm.add_constant(portfolio[:, 0])).fit().fittedvalues"
   ]
  },
  {
   "cell_type": "code",
   "execution_count": 23,
   "metadata": {},
   "outputs": [
    {
     "data": {
      "application/vnd.plotly.v1+json": {
       "config": {
        "plotlyServerURL": "https://plot.ly"
       },
       "data": [
        {
         "mode": "markers",
         "name": "Risk-Return Relationship",
         "type": "scatter",
         "x": [
          -0.2343978966516346,
          -0.2583642313831995,
          -0.3075475276052959,
          -0.0031974687752756303,
          -0.038885280192963445,
          -0.06646330708678005,
          -0.2659162608285205,
          -0.37101615826099477,
          -0.11473635962593495,
          -0.11345161468606682,
          -0.0781302801673294,
          -0.14688962403489675,
          -0.09933806737930424,
          -0.016122994568464943,
          0.015887063518372845,
          0.03316386296921693,
          -0.09879211241389174,
          -0.0607395161953645,
          -0.22136925213241226,
          0.055113335528093346,
          -0.17089313272873033,
          0.10379798066837845,
          -0.007046745295918651,
          0.14383923205932916,
          -0.14556100616803427,
          0.11662494097699712,
          -0.18586256550065858,
          -0.12361837354671154,
          -0.0844171114439711,
          0.040633594843729234,
          0.054811549554034555,
          0.09028561227215048,
          -0.0825234169868742,
          -0.06015312367995036,
          -0.18579356881276285,
          0.1296975628087824,
          -0.09437060091899224,
          -0.1498207854626444,
          -0.03226641391972673,
          -0.044319515458598746,
          -0.08388292068122238,
          -0.025105510917582712,
          -0.10058964869918072,
          0.06827854439044279,
          -0.08966718094862053,
          0.10053053594755162,
          0.0013974543977781414,
          -0.06254134671728083,
          0.04889981140396855,
          -0.15490511281284294,
          0.14091746456550813,
          -0.018048408105738337,
          0.10213447187080768,
          -0.07055526298811594,
          0.07490987319220505,
          -0.061054799588407115,
          -0.11364662176377997,
          0.07648940949648073,
          -0.006439412391038887,
          -0.04472714337792225,
          -0.04900814878593407,
          -0.14417305142451733,
          0.14932037711684593,
          -0.018461673676955562,
          0.026645321699456676,
          0.09308056770504936,
          -0.004000505858539777,
          -0.0022869783922808452,
          0.003344221612460084,
          0.05977917364009396,
          0.11265059905996877,
          0.08217663496615012,
          0.04007979174138797,
          -0.008905656621416725,
          -0.0782437232089079,
          0.09393891855905404,
          -0.025177530728875783,
          -0.02872105172716867,
          -0.06680566812055189,
          -0.09910200179484671,
          0.01430757466072343,
          -0.004839122822761423,
          -0.05581202302258539,
          0.002628260987567163,
          0.061641914108741806,
          -0.04305346354716283,
          -0.026344638670540717,
          0.10341076316859239,
          -0.07438494796528976,
          -0.0020090591839554937,
          0.020962655625353842,
          0.016362025911710036,
          0.06466787808873273,
          0.03812757118876875,
          -0.010200103370687653,
          0.0420820626705212,
          0.006932562323778521,
          -0.030610408695780633,
          0.041585578024030734,
          -0.08454015554852572
         ],
         "y": [
          0.6472385666558335,
          0.23497961128641146,
          0.18009770057481367,
          0.22381880278290928,
          0.15954463422624857,
          0.16057792763566994,
          0.09126191463798337,
          0.13006003361430274,
          0.10480357665936725,
          0.21655940511071425,
          0.2588823733101535,
          0.11212805646316443,
          0.10317647359342282,
          0.08313306269729949,
          0.07327772718453666,
          0.09683710694942856,
          0.11449913846766377,
          0.11569738773883896,
          0.05781938590352786,
          0.058938651322350516,
          0.12880769443103782,
          0.19183066096228707,
          0.08145647368695197,
          0.07923979947634005,
          0.09593849871371249,
          0.03959579324961997,
          0.13675924516260238,
          0.05970664488308357,
          0.0320838023169297,
          0.06974185327073618,
          0.06192532434632995,
          0.12222890697676099,
          0.12950986535413506,
          0.05570937904274777,
          0.11281424824749277,
          0.040116586634817646,
          0.05763945363107409,
          0.06737633202623694,
          0.035102841382985465,
          0.11482008188920242,
          0.0775958937733232,
          0.10688773242814087,
          0.04677500908499992,
          0.05178793150965123,
          0.0218523891547176,
          0.1055504976814773,
          0.1187864674989217,
          0.030825830341468807,
          0.04125092142709473,
          0.10105399479802397,
          0.057680660957443945,
          0.06369306697047147,
          0.10626595072031364,
          0.0677921470162497,
          0.06526060028714552,
          0.08993965885080274,
          0.0659353361193596,
          0.04477570896908092,
          0.040324972748112115,
          0.05150172961952697,
          0.04737747654406711,
          0.05305736474919338,
          0.05809072559566039,
          0.051399550500008044,
          0.03801015904683423,
          0.10027695410402641,
          0.03777996641635545,
          0.03810612185980255,
          0.07808161236686396,
          0.03980909878304088,
          0.05785673728599209,
          0.031079285383395376,
          0.019132857497517766,
          0.06866462018612031,
          0.08125326565340821,
          0.0360869246024835,
          0.08217421640078275,
          0.07103113719287456,
          0.03195721526973649,
          0.07904949532343676,
          0.0760595857213989,
          0.0648247409058583,
          0.05857876633654398,
          0.05323086805036566,
          0.023327303199995476,
          0.03805427462978407,
          0.042489945566257646,
          0.0417472719724819,
          0.0511939544080423,
          0.022630312192865442,
          0.04408747411166809,
          0.06097657045713148,
          0.04941409556842939,
          0.05299927688397177,
          0.05656385849290993,
          0.022245883227890784,
          0.05457009071415115,
          0.06874082762776655,
          0.038700170685542254,
          0.04135887655434266
         ]
        },
        {
         "mode": "lines",
         "name": "Best Fit Line",
         "type": "scatter",
         "x": [
          -0.2343978966516346,
          -0.2583642313831995,
          -0.3075475276052959,
          -0.0031974687752756303,
          -0.038885280192963445,
          -0.06646330708678005,
          -0.2659162608285205,
          -0.37101615826099477,
          -0.11473635962593495,
          -0.11345161468606682,
          -0.0781302801673294,
          -0.14688962403489675,
          -0.09933806737930424,
          -0.016122994568464943,
          0.015887063518372845,
          0.03316386296921693,
          -0.09879211241389174,
          -0.0607395161953645,
          -0.22136925213241226,
          0.055113335528093346,
          -0.17089313272873033,
          0.10379798066837845,
          -0.007046745295918651,
          0.14383923205932916,
          -0.14556100616803427,
          0.11662494097699712,
          -0.18586256550065858,
          -0.12361837354671154,
          -0.0844171114439711,
          0.040633594843729234,
          0.054811549554034555,
          0.09028561227215048,
          -0.0825234169868742,
          -0.06015312367995036,
          -0.18579356881276285,
          0.1296975628087824,
          -0.09437060091899224,
          -0.1498207854626444,
          -0.03226641391972673,
          -0.044319515458598746,
          -0.08388292068122238,
          -0.025105510917582712,
          -0.10058964869918072,
          0.06827854439044279,
          -0.08966718094862053,
          0.10053053594755162,
          0.0013974543977781414,
          -0.06254134671728083,
          0.04889981140396855,
          -0.15490511281284294,
          0.14091746456550813,
          -0.018048408105738337,
          0.10213447187080768,
          -0.07055526298811594,
          0.07490987319220505,
          -0.061054799588407115,
          -0.11364662176377997,
          0.07648940949648073,
          -0.006439412391038887,
          -0.04472714337792225,
          -0.04900814878593407,
          -0.14417305142451733,
          0.14932037711684593,
          -0.018461673676955562,
          0.026645321699456676,
          0.09308056770504936,
          -0.004000505858539777,
          -0.0022869783922808452,
          0.003344221612460084,
          0.05977917364009396,
          0.11265059905996877,
          0.08217663496615012,
          0.04007979174138797,
          -0.008905656621416725,
          -0.0782437232089079,
          0.09393891855905404,
          -0.025177530728875783,
          -0.02872105172716867,
          -0.06680566812055189,
          -0.09910200179484671,
          0.01430757466072343,
          -0.004839122822761423,
          -0.05581202302258539,
          0.002628260987567163,
          0.061641914108741806,
          -0.04305346354716283,
          -0.026344638670540717,
          0.10341076316859239,
          -0.07438494796528976,
          -0.0020090591839554937,
          0.020962655625353842,
          0.016362025911710036,
          0.06466787808873273,
          0.03812757118876875,
          -0.010200103370687653,
          0.0420820626705212,
          0.006932562323778521,
          -0.030610408695780633,
          0.041585578024030734,
          -0.08454015554852572
         ],
         "y": [
          0.14097176546368334,
          0.14773263995405123,
          0.16160718925433412,
          0.07575040005678564,
          0.08581788916320818,
          0.09359761771200117,
          0.14986305846815684,
          0.1795116143883762,
          0.10721538835317969,
          0.10685296333542577,
          0.09688885692582253,
          0.11628578595712777,
          0.10287154844559622,
          0.07939667549224769,
          0.0703666762212509,
          0.06549291166815159,
          0.10271753519993769,
          0.09198294311701588,
          0.13729640035839383,
          0.05930099159516311,
          0.12305714717798755,
          0.04556711117130095,
          0.07683627637981438,
          0.034271521832187596,
          0.1159109844389095,
          0.04194864094167152,
          0.1272800063384128,
          0.1097209939041604,
          0.09866236454305168,
          0.06338570920077703,
          0.05938612505909982,
          0.049378934206309774,
          0.09812815559158129,
          0.09181752248665204,
          0.12726054245491375,
          0.03826086988887306,
          0.1014702320720479,
          0.11711266310567686,
          0.08395071486880323,
          0.08735088046094311,
          0.09851166996495662,
          0.08193063265859231,
          0.10322461804563937,
          0.05558710185128854,
          0.10014340289890397,
          0.04648885343640546,
          0.07445417770097483,
          0.09249123736175686,
          0.06105381935195618,
          0.11854694579711253,
          0.035095748963161616,
          0.07993983235846704,
          0.046036385022307724,
          0.09475195359935802,
          0.05371641189242603,
          0.09207188418677617,
          0.1069079745998481,
          0.05327082658178933,
          0.07666494849051662,
          0.08746587181160993,
          0.08867353833969335,
          0.11551944405844114,
          0.03272529733801975,
          0.08005641408402017,
          0.06733178439853571,
          0.04859048060672311,
          0.07597693586177502,
          0.07549355180389,
          0.07390499698778498,
          0.05798476421951586,
          0.04306979806410158,
          0.05166646704873913,
          0.06354193639651816,
          0.07736067305127801,
          0.09692085907277191,
          0.04834834085287153,
          0.08195094936160202,
          0.0829505724158477,
          0.09369419735196904,
          0.10280495462531086,
          0.07081224814725082,
          0.07621350870881653,
          0.09059290316028325,
          0.07410696862755228,
          0.057459287351329144,
          0.0869937287242516,
          0.08228018912223659,
          0.04567634476691955,
          0.0958323031713023,
          0.07541515112614784,
          0.06893485773152559,
          0.07023268989564191,
          0.05660566651567636,
          0.06409265548984668,
          0.07772583493791223,
          0.06297709815157147,
          0.07289273034586291,
          0.08348355776698126,
          0.06311715587916783,
          0.09869707513843437
         ]
        }
       ],
       "layout": {
        "height": 470,
        "template": {
         "data": {
          "bar": [
           {
            "error_x": {
             "color": "#2a3f5f"
            },
            "error_y": {
             "color": "#2a3f5f"
            },
            "marker": {
             "line": {
              "color": "#E5ECF6",
              "width": 0.5
             },
             "pattern": {
              "fillmode": "overlay",
              "size": 10,
              "solidity": 0.2
             }
            },
            "type": "bar"
           }
          ],
          "barpolar": [
           {
            "marker": {
             "line": {
              "color": "#E5ECF6",
              "width": 0.5
             },
             "pattern": {
              "fillmode": "overlay",
              "size": 10,
              "solidity": 0.2
             }
            },
            "type": "barpolar"
           }
          ],
          "carpet": [
           {
            "aaxis": {
             "endlinecolor": "#2a3f5f",
             "gridcolor": "white",
             "linecolor": "white",
             "minorgridcolor": "white",
             "startlinecolor": "#2a3f5f"
            },
            "baxis": {
             "endlinecolor": "#2a3f5f",
             "gridcolor": "white",
             "linecolor": "white",
             "minorgridcolor": "white",
             "startlinecolor": "#2a3f5f"
            },
            "type": "carpet"
           }
          ],
          "choropleth": [
           {
            "colorbar": {
             "outlinewidth": 0,
             "ticks": ""
            },
            "type": "choropleth"
           }
          ],
          "contour": [
           {
            "colorbar": {
             "outlinewidth": 0,
             "ticks": ""
            },
            "colorscale": [
             [
              0,
              "#0d0887"
             ],
             [
              0.1111111111111111,
              "#46039f"
             ],
             [
              0.2222222222222222,
              "#7201a8"
             ],
             [
              0.3333333333333333,
              "#9c179e"
             ],
             [
              0.4444444444444444,
              "#bd3786"
             ],
             [
              0.5555555555555556,
              "#d8576b"
             ],
             [
              0.6666666666666666,
              "#ed7953"
             ],
             [
              0.7777777777777778,
              "#fb9f3a"
             ],
             [
              0.8888888888888888,
              "#fdca26"
             ],
             [
              1,
              "#f0f921"
             ]
            ],
            "type": "contour"
           }
          ],
          "contourcarpet": [
           {
            "colorbar": {
             "outlinewidth": 0,
             "ticks": ""
            },
            "type": "contourcarpet"
           }
          ],
          "heatmap": [
           {
            "colorbar": {
             "outlinewidth": 0,
             "ticks": ""
            },
            "colorscale": [
             [
              0,
              "#0d0887"
             ],
             [
              0.1111111111111111,
              "#46039f"
             ],
             [
              0.2222222222222222,
              "#7201a8"
             ],
             [
              0.3333333333333333,
              "#9c179e"
             ],
             [
              0.4444444444444444,
              "#bd3786"
             ],
             [
              0.5555555555555556,
              "#d8576b"
             ],
             [
              0.6666666666666666,
              "#ed7953"
             ],
             [
              0.7777777777777778,
              "#fb9f3a"
             ],
             [
              0.8888888888888888,
              "#fdca26"
             ],
             [
              1,
              "#f0f921"
             ]
            ],
            "type": "heatmap"
           }
          ],
          "heatmapgl": [
           {
            "colorbar": {
             "outlinewidth": 0,
             "ticks": ""
            },
            "colorscale": [
             [
              0,
              "#0d0887"
             ],
             [
              0.1111111111111111,
              "#46039f"
             ],
             [
              0.2222222222222222,
              "#7201a8"
             ],
             [
              0.3333333333333333,
              "#9c179e"
             ],
             [
              0.4444444444444444,
              "#bd3786"
             ],
             [
              0.5555555555555556,
              "#d8576b"
             ],
             [
              0.6666666666666666,
              "#ed7953"
             ],
             [
              0.7777777777777778,
              "#fb9f3a"
             ],
             [
              0.8888888888888888,
              "#fdca26"
             ],
             [
              1,
              "#f0f921"
             ]
            ],
            "type": "heatmapgl"
           }
          ],
          "histogram": [
           {
            "marker": {
             "pattern": {
              "fillmode": "overlay",
              "size": 10,
              "solidity": 0.2
             }
            },
            "type": "histogram"
           }
          ],
          "histogram2d": [
           {
            "colorbar": {
             "outlinewidth": 0,
             "ticks": ""
            },
            "colorscale": [
             [
              0,
              "#0d0887"
             ],
             [
              0.1111111111111111,
              "#46039f"
             ],
             [
              0.2222222222222222,
              "#7201a8"
             ],
             [
              0.3333333333333333,
              "#9c179e"
             ],
             [
              0.4444444444444444,
              "#bd3786"
             ],
             [
              0.5555555555555556,
              "#d8576b"
             ],
             [
              0.6666666666666666,
              "#ed7953"
             ],
             [
              0.7777777777777778,
              "#fb9f3a"
             ],
             [
              0.8888888888888888,
              "#fdca26"
             ],
             [
              1,
              "#f0f921"
             ]
            ],
            "type": "histogram2d"
           }
          ],
          "histogram2dcontour": [
           {
            "colorbar": {
             "outlinewidth": 0,
             "ticks": ""
            },
            "colorscale": [
             [
              0,
              "#0d0887"
             ],
             [
              0.1111111111111111,
              "#46039f"
             ],
             [
              0.2222222222222222,
              "#7201a8"
             ],
             [
              0.3333333333333333,
              "#9c179e"
             ],
             [
              0.4444444444444444,
              "#bd3786"
             ],
             [
              0.5555555555555556,
              "#d8576b"
             ],
             [
              0.6666666666666666,
              "#ed7953"
             ],
             [
              0.7777777777777778,
              "#fb9f3a"
             ],
             [
              0.8888888888888888,
              "#fdca26"
             ],
             [
              1,
              "#f0f921"
             ]
            ],
            "type": "histogram2dcontour"
           }
          ],
          "mesh3d": [
           {
            "colorbar": {
             "outlinewidth": 0,
             "ticks": ""
            },
            "type": "mesh3d"
           }
          ],
          "parcoords": [
           {
            "line": {
             "colorbar": {
              "outlinewidth": 0,
              "ticks": ""
             }
            },
            "type": "parcoords"
           }
          ],
          "pie": [
           {
            "automargin": true,
            "type": "pie"
           }
          ],
          "scatter": [
           {
            "fillpattern": {
             "fillmode": "overlay",
             "size": 10,
             "solidity": 0.2
            },
            "type": "scatter"
           }
          ],
          "scatter3d": [
           {
            "line": {
             "colorbar": {
              "outlinewidth": 0,
              "ticks": ""
             }
            },
            "marker": {
             "colorbar": {
              "outlinewidth": 0,
              "ticks": ""
             }
            },
            "type": "scatter3d"
           }
          ],
          "scattercarpet": [
           {
            "marker": {
             "colorbar": {
              "outlinewidth": 0,
              "ticks": ""
             }
            },
            "type": "scattercarpet"
           }
          ],
          "scattergeo": [
           {
            "marker": {
             "colorbar": {
              "outlinewidth": 0,
              "ticks": ""
             }
            },
            "type": "scattergeo"
           }
          ],
          "scattergl": [
           {
            "marker": {
             "colorbar": {
              "outlinewidth": 0,
              "ticks": ""
             }
            },
            "type": "scattergl"
           }
          ],
          "scattermapbox": [
           {
            "marker": {
             "colorbar": {
              "outlinewidth": 0,
              "ticks": ""
             }
            },
            "type": "scattermapbox"
           }
          ],
          "scatterpolar": [
           {
            "marker": {
             "colorbar": {
              "outlinewidth": 0,
              "ticks": ""
             }
            },
            "type": "scatterpolar"
           }
          ],
          "scatterpolargl": [
           {
            "marker": {
             "colorbar": {
              "outlinewidth": 0,
              "ticks": ""
             }
            },
            "type": "scatterpolargl"
           }
          ],
          "scatterternary": [
           {
            "marker": {
             "colorbar": {
              "outlinewidth": 0,
              "ticks": ""
             }
            },
            "type": "scatterternary"
           }
          ],
          "surface": [
           {
            "colorbar": {
             "outlinewidth": 0,
             "ticks": ""
            },
            "colorscale": [
             [
              0,
              "#0d0887"
             ],
             [
              0.1111111111111111,
              "#46039f"
             ],
             [
              0.2222222222222222,
              "#7201a8"
             ],
             [
              0.3333333333333333,
              "#9c179e"
             ],
             [
              0.4444444444444444,
              "#bd3786"
             ],
             [
              0.5555555555555556,
              "#d8576b"
             ],
             [
              0.6666666666666666,
              "#ed7953"
             ],
             [
              0.7777777777777778,
              "#fb9f3a"
             ],
             [
              0.8888888888888888,
              "#fdca26"
             ],
             [
              1,
              "#f0f921"
             ]
            ],
            "type": "surface"
           }
          ],
          "table": [
           {
            "cells": {
             "fill": {
              "color": "#EBF0F8"
             },
             "line": {
              "color": "white"
             }
            },
            "header": {
             "fill": {
              "color": "#C8D4E3"
             },
             "line": {
              "color": "white"
             }
            },
            "type": "table"
           }
          ]
         },
         "layout": {
          "annotationdefaults": {
           "arrowcolor": "#2a3f5f",
           "arrowhead": 0,
           "arrowwidth": 1
          },
          "autotypenumbers": "strict",
          "coloraxis": {
           "colorbar": {
            "outlinewidth": 0,
            "ticks": ""
           }
          },
          "colorscale": {
           "diverging": [
            [
             0,
             "#8e0152"
            ],
            [
             0.1,
             "#c51b7d"
            ],
            [
             0.2,
             "#de77ae"
            ],
            [
             0.3,
             "#f1b6da"
            ],
            [
             0.4,
             "#fde0ef"
            ],
            [
             0.5,
             "#f7f7f7"
            ],
            [
             0.6,
             "#e6f5d0"
            ],
            [
             0.7,
             "#b8e186"
            ],
            [
             0.8,
             "#7fbc41"
            ],
            [
             0.9,
             "#4d9221"
            ],
            [
             1,
             "#276419"
            ]
           ],
           "sequential": [
            [
             0,
             "#0d0887"
            ],
            [
             0.1111111111111111,
             "#46039f"
            ],
            [
             0.2222222222222222,
             "#7201a8"
            ],
            [
             0.3333333333333333,
             "#9c179e"
            ],
            [
             0.4444444444444444,
             "#bd3786"
            ],
            [
             0.5555555555555556,
             "#d8576b"
            ],
            [
             0.6666666666666666,
             "#ed7953"
            ],
            [
             0.7777777777777778,
             "#fb9f3a"
            ],
            [
             0.8888888888888888,
             "#fdca26"
            ],
            [
             1,
             "#f0f921"
            ]
           ],
           "sequentialminus": [
            [
             0,
             "#0d0887"
            ],
            [
             0.1111111111111111,
             "#46039f"
            ],
            [
             0.2222222222222222,
             "#7201a8"
            ],
            [
             0.3333333333333333,
             "#9c179e"
            ],
            [
             0.4444444444444444,
             "#bd3786"
            ],
            [
             0.5555555555555556,
             "#d8576b"
            ],
            [
             0.6666666666666666,
             "#ed7953"
            ],
            [
             0.7777777777777778,
             "#fb9f3a"
            ],
            [
             0.8888888888888888,
             "#fdca26"
            ],
            [
             1,
             "#f0f921"
            ]
           ]
          },
          "colorway": [
           "#636efa",
           "#EF553B",
           "#00cc96",
           "#ab63fa",
           "#FFA15A",
           "#19d3f3",
           "#FF6692",
           "#B6E880",
           "#FF97FF",
           "#FECB52"
          ],
          "font": {
           "color": "#2a3f5f"
          },
          "geo": {
           "bgcolor": "white",
           "lakecolor": "white",
           "landcolor": "#E5ECF6",
           "showlakes": true,
           "showland": true,
           "subunitcolor": "white"
          },
          "hoverlabel": {
           "align": "left"
          },
          "hovermode": "closest",
          "mapbox": {
           "style": "light"
          },
          "paper_bgcolor": "white",
          "plot_bgcolor": "#E5ECF6",
          "polar": {
           "angularaxis": {
            "gridcolor": "white",
            "linecolor": "white",
            "ticks": ""
           },
           "bgcolor": "#E5ECF6",
           "radialaxis": {
            "gridcolor": "white",
            "linecolor": "white",
            "ticks": ""
           }
          },
          "scene": {
           "xaxis": {
            "backgroundcolor": "#E5ECF6",
            "gridcolor": "white",
            "gridwidth": 2,
            "linecolor": "white",
            "showbackground": true,
            "ticks": "",
            "zerolinecolor": "white"
           },
           "yaxis": {
            "backgroundcolor": "#E5ECF6",
            "gridcolor": "white",
            "gridwidth": 2,
            "linecolor": "white",
            "showbackground": true,
            "ticks": "",
            "zerolinecolor": "white"
           },
           "zaxis": {
            "backgroundcolor": "#E5ECF6",
            "gridcolor": "white",
            "gridwidth": 2,
            "linecolor": "white",
            "showbackground": true,
            "ticks": "",
            "zerolinecolor": "white"
           }
          },
          "shapedefaults": {
           "line": {
            "color": "#2a3f5f"
           }
          },
          "ternary": {
           "aaxis": {
            "gridcolor": "white",
            "linecolor": "white",
            "ticks": ""
           },
           "baxis": {
            "gridcolor": "white",
            "linecolor": "white",
            "ticks": ""
           },
           "bgcolor": "#E5ECF6",
           "caxis": {
            "gridcolor": "white",
            "linecolor": "white",
            "ticks": ""
           }
          },
          "title": {
           "x": 0.05
          },
          "xaxis": {
           "automargin": true,
           "gridcolor": "white",
           "linecolor": "white",
           "ticks": "",
           "title": {
            "standoff": 15
           },
           "zerolinecolor": "white",
           "zerolinewidth": 2
          },
          "yaxis": {
           "automargin": true,
           "gridcolor": "white",
           "linecolor": "white",
           "ticks": "",
           "title": {
            "standoff": 15
           },
           "zerolinecolor": "white",
           "zerolinewidth": 2
          }
         }
        },
        "width": 900,
        "xaxis": {
         "title": {
          "text": "Return"
         }
        },
        "yaxis": {
         "title": {
          "text": "Standard Deviation"
         }
        }
       }
      }
     },
     "metadata": {},
     "output_type": "display_data"
    }
   ],
   "source": [
    "fig = go.Figure()\n",
    "fig.add_trace(go.Scatter(name='Risk-Return Relationship',\n",
    "                         x = portfolio[:,0],\n",
    "                         y = portfolio[:, 1],\n",
    "                         mode='markers'))\n",
    "fig.add_trace(go.Scatter(name='Best Fit Line',\n",
    "                         x=portfolio[:, 0],\n",
    "                         y=best_fit,\n",
    "                         mode='lines'))\n",
    "fig.update_layout(xaxis_title='Return',\n",
    "                  yaxis_title='Standard Deviation',\n",
    "                  width=900, height=470)\n",
    "fig.show()"
   ]
  },
  {
   "cell_type": "markdown",
   "metadata": {},
   "source": [
    "# Adverse selection"
   ]
  },
  {
   "cell_type": "code",
   "execution_count": 2,
   "metadata": {},
   "outputs": [
    {
     "name": "stderr",
     "output_type": "stream",
     "text": [
      "C:\\Users\\mpbob\\AppData\\Local\\Temp\\ipykernel_12140\\1157128435.py:3: MatplotlibDeprecationWarning: The seaborn styles shipped by Matplotlib are deprecated since 3.6, as they no longer correspond to the styles shipped by seaborn. However, they will remain available as 'seaborn-v0_8-<style>'. Alternatively, directly use the seaborn API instead.\n",
      "  plt.style.use('seaborn')\n"
     ]
    }
   ],
   "source": [
    "import matplotlib.pyplot as plt\n",
    "import numpy as np\n",
    "plt.style.use('seaborn')\n",
    "import seaborn as sns"
   ]
  },
  {
   "cell_type": "code",
   "execution_count": 3,
   "metadata": {},
   "outputs": [],
   "source": [
    "def utility(x):\n",
    "    return(np.exp(x ** gamma))"
   ]
  },
  {
   "cell_type": "code",
   "execution_count": 5,
   "metadata": {},
   "outputs": [],
   "source": [
    "\n",
    "pi = np.random.uniform(0, 1, 20)\n",
    "pi = np.sort(pi)"
   ]
  },
  {
   "cell_type": "code",
   "execution_count": 6,
   "metadata": {},
   "outputs": [
    {
     "name": "stdout",
     "output_type": "stream",
     "text": [
      "The highest three probapility of loses are [0.92162738 0.97890077 0.98621388]\n"
     ]
    }
   ],
   "source": [
    "print('The highest three probapility of loses are {}'.format(pi[-3:]))"
   ]
  },
  {
   "cell_type": "code",
   "execution_count": 7,
   "metadata": {},
   "outputs": [],
   "source": [
    "y = 2\n",
    "c = 1.5\n",
    "Q = 5\n",
    "D = 0.01\n",
    "gamma = 0.4"
   ]
  },
  {
   "cell_type": "code",
   "execution_count": 8,
   "metadata": {},
   "outputs": [],
   "source": [
    "def supply(Q):\n",
    "    return(np.mean(pi[-Q:]) * c)"
   ]
  },
  {
   "cell_type": "code",
   "execution_count": 9,
   "metadata": {},
   "outputs": [],
   "source": [
    "def demand(D):\n",
    "    return(np.sum(utility(y - D) > pi * utility(y - c) + (1 - pi) * utility(y)))"
   ]
  },
  {
   "cell_type": "code",
   "execution_count": 10,
   "metadata": {},
   "outputs": [
    {
     "data": {
      "image/png": "[encoded data removed]",
      "text/plain": [
       "<Figure size 800x550 with 1 Axes>"
      ]
     },
     "metadata": {},
     "output_type": "display_data"
    }
   ],
   "source": [
    "plt.figure()\n",
    "plt.plot([demand(i) for i in np.arange(0, 1.9, 0.02)],\n",
    "         np.arange(0, 1.9, 0.02),\n",
    "         'r', label='insurance demand')\n",
    "plt.plot(range(1, 21), [supply(j) for j in range(1,21)],\n",
    "         'g', label='insurance supply')\n",
    "plt.ylabel('Average Cost')\n",
    "plt.xlabel=('Number of People')\n",
    "plt.legend()\n",
    "plt.show()"
   ]
  },
  {
   "cell_type": "code",
   "execution_count": null,
   "metadata": {},
   "outputs": [],
   "source": []
  }
 ],
 "metadata": {
  "kernelspec": {
   "display_name": "mlfrm",
   "language": "python",
   "name": "python3"
  },
  "language_info": {
   "codemirror_mode": {
    "name": "ipython",
    "version": 3
   },
   "file_extension": ".py",
   "mimetype": "text/x-python",
   "name": "python",
   "nbconvert_exporter": "python",
   "pygments_lexer": "ipython3",
   "version": "3.10.12"
  },
  "orig_nbformat": 4
 },
 "nbformat": 4,
 "nbformat_minor": 2
}
