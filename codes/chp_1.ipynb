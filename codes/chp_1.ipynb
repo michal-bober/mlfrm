{
 "cells": [
  {
   "cell_type": "markdown",
   "metadata": {},
   "source": [
    "## Risk-Return"
   ]
  },
  {
   "cell_type": "code",
   "execution_count": 1,
   "metadata": {},
   "outputs": [],
   "source": [
    "#!pip install plotly\n",
    "import statsmodels.api as sm\n",
    "import numpy as np\n",
    "import plotly.graph_objs as go\n",
    "import matplotlib.pyplot as plt\n",
    "import plotly\n",
    "import warnings\n",
    "warnings.filterwarnings('ignore')\n",
    "plt.rcParams['figure.dpi'] = 300\n",
    "plt.rcParams['savefig.dpi'] = 300"
   ]
  },
  {
   "cell_type": "code",
   "execution_count": 2,
   "metadata": {},
   "outputs": [],
   "source": [
    "n_assets = 5\n",
    "n_simulation = 500"
   ]
  },
  {
   "cell_type": "code",
   "execution_count": 3,
   "metadata": {},
   "outputs": [],
   "source": [
    "returns = np.random.randn(n_assets, n_simulation)"
   ]
  },
  {
   "cell_type": "code",
   "execution_count": 4,
   "metadata": {},
   "outputs": [],
   "source": [
    "rand = np.random.rand(n_assets)\n",
    "weights = rand/sum(rand)\n",
    "\n",
    "\n",
    "def port_return(returns):\n",
    "    rets = np.mean(returns, axis=1)\n",
    "    cov = np.cov(rets.T, aweights=weights, ddof=1)\n",
    "    portfolio_returns = np.dot(weights, rets.T)\n",
    "    portfolio_std_dev = np.sqrt(np.dot(weights, np.dot(cov, weights)))\n",
    "    return portfolio_returns, portfolio_std_dev"
   ]
  },
  {
   "cell_type": "code",
   "execution_count": 5,
   "metadata": {},
   "outputs": [],
   "source": [
    "portfolio_returns, portfolio_std_dev = port_return(returns)"
   ]
  },
  {
   "cell_type": "code",
   "execution_count": 6,
   "metadata": {},
   "outputs": [
    {
     "name": "stdout",
     "output_type": "stream",
     "text": [
      "0.01008670566540458\n",
      "0.009680355646203037\n"
     ]
    }
   ],
   "source": [
    "print(portfolio_returns)\n",
    "print(portfolio_std_dev)"
   ]
  },
  {
   "cell_type": "code",
   "execution_count": 7,
   "metadata": {},
   "outputs": [],
   "source": [
    "portfolio = np.array([port_return(np.random.randn(n_assets, i))\n",
    "                      for i in range(1, 101)])"
   ]
  },
  {
   "cell_type": "code",
   "execution_count": 8,
   "metadata": {},
   "outputs": [],
   "source": [
    "best_fit = sm.OLS(portfolio[:, 1], sm.add_constant(portfolio[:, 0]))\\\n",
    "           .fit().fittedvalues"
   ]
  },
  {
   "cell_type": "code",
   "execution_count": 9,
   "metadata": {
    "scrolled": true
   },
   "outputs": [
    {
     "data": {
      "application/vnd.plotly.v1+json": {
       "config": {
        "plotlyServerURL": "https://plot.ly"
       },
       "data": [
        {
         "mode": "markers",
         "name": "Risk-Return Relationship",
         "type": "scatter",
         "x": [
          -0.4425480122989173,
          0.01650563284594206,
          0.6838867256259293,
          0.3331051092653049,
          0.10646361151290129,
          -0.21591375308268712,
          0.146041211736277,
          0.3105587907362801,
          -0.06094859681130034,
          0.030557208820885414,
          0.2789662745899663,
          0.013308509461080129,
          -0.01669614818714582,
          0.0038052880439170267,
          0.01735954903081702,
          0.03327791188334161,
          0.2477850250518909,
          -0.19360051706601944,
          -0.12808980483779905,
          -0.026174564643690154,
          -0.018114120172047096,
          -0.14713294117709577,
          -0.06599844944540208,
          -0.054172691516922486,
          -0.027268631786577693,
          0.023483419121670276,
          0.07312039383573535,
          -0.11040443753606123,
          -0.09206159410316694,
          -0.09586929195314405,
          0.04059134302985438,
          0.03307914121332937,
          -0.03901654276456571,
          0.1825286744315896,
          0.025974205933283284,
          -0.020493662688230684,
          0.016931059867295956,
          0.14105884491413345,
          -0.09255456615498725,
          0.09917790256249354,
          -0.13793301127332594,
          0.06516025390193748,
          -0.08043353046967808,
          -0.041091750959428956,
          0.08465714538709519,
          0.055590459549856246,
          0.032733755989811535,
          0.07355353183079763,
          -0.05817325095846457,
          -0.08366748624113375,
          0.01704631412564209,
          0.06096489861491272,
          -0.022295493931104,
          0.09860928692770288,
          0.026906010419196963,
          0.05474590386589865,
          -0.00469369525663639,
          0.0612033665491117,
          0.05198849254553251,
          0.09670963298584223,
          -0.015642286539164683,
          0.09420662270087338,
          -0.05676194981291186,
          0.044788575426850795,
          0.021782155243681156,
          -0.008952496107464587,
          -0.07413729061698901,
          0.05474135942813464,
          -0.025457935780901792,
          -0.0111184838325353,
          0.00858174860807652,
          -0.06339953106286603,
          0.008617338348389632,
          -0.08412352418262536,
          -0.020793880084292924,
          0.09731054620687551,
          -0.0014730258026670502,
          0.0220154819993965,
          0.015408988859000331,
          0.10952885831203901,
          0.1252378053559072,
          -0.0944716918532229,
          -0.003094315851243791,
          -0.08067966580087091,
          0.10755827111724099,
          0.02285207345952825,
          -0.008508597043387732,
          -0.03295682728700236,
          0.060282554007524025,
          0.038784223810200635,
          0.05736467169782389,
          -0.09654709838524606,
          -0.03233602750337163,
          0.031091529566439187,
          0.0970958878285734,
          0.047227356724765523,
          0.046826353381697224,
          0.018898438282964683,
          0.04081303330977452,
          0.056182656709570136
         ],
         "y": [
          0.5057537959202805,
          0.2877329857824259,
          0.21352614264790853,
          0.15704094247894268,
          0.29228134692787294,
          0.23514879240352868,
          0.2204822205134418,
          0.16275240450929743,
          0.13678850566035614,
          0.08072696667044911,
          0.0959484721695897,
          0.12139253533628606,
          0.1825748494429362,
          0.14678710596292976,
          0.07251215563970553,
          0.21657327008033106,
          0.07305212673427441,
          0.11984331517746775,
          0.07541893615849861,
          0.1679333721025727,
          0.1562623964020223,
          0.14486324784068416,
          0.09610516799808273,
          0.14970084478887877,
          0.17297173657116513,
          0.05998879990240012,
          0.09411049504434513,
          0.0713321717121263,
          0.060075860036155844,
          0.06499636062925539,
          0.08311284610659149,
          0.0752542314149125,
          0.0613783501223277,
          0.10982688099753633,
          0.06324815584810878,
          0.1001047190977913,
          0.10208219874562874,
          0.07771712365438904,
          0.045385061698027696,
          0.07840894784215546,
          0.08509950398343767,
          0.040668443458308785,
          0.04270411150343903,
          0.016045046736345627,
          0.03737308657782372,
          0.04402831033086329,
          0.08017680287633298,
          0.06602205629623628,
          0.054028094132671886,
          0.07302084980715963,
          0.01947263147386851,
          0.04606355288912452,
          0.15451654909527618,
          0.04826654171686792,
          0.03261336834552375,
          0.039079029560632125,
          0.0884863831202389,
          0.03575890839963328,
          0.08460676411980568,
          0.06206241170129093,
          0.11177608151209335,
          0.09548928178694714,
          0.0338071125941195,
          0.06171230164631143,
          0.0510277842292819,
          0.049004691264474314,
          0.0708314774470758,
          0.036721049328965985,
          0.03068460337976691,
          0.07438411116614697,
          0.07818254971485604,
          0.02669800104948503,
          0.09229143554646382,
          0.032638671389590534,
          0.04112938180998142,
          0.07868886375201474,
          0.044011621212136955,
          0.0639897526808175,
          0.03403183574449733,
          0.03251450669403009,
          0.07370476777247804,
          0.044434576447944435,
          0.07715177518144192,
          0.054603683640732426,
          0.06480846606839213,
          0.07144963472916915,
          0.046322956445193,
          0.06575890893785055,
          0.014378638171740177,
          0.027810497919654623,
          0.06466142187657194,
          0.0371568898260705,
          0.050150320095117655,
          0.025462205129720715,
          0.03050052162963703,
          0.07795600792654696,
          0.05065293412024953,
          0.058121143663235265,
          0.06108800891924852,
          0.07964961009426766
         ]
        },
        {
         "mode": "lines",
         "name": "Best Fit Line",
         "type": "scatter",
         "x": [
          -0.4425480122989173,
          0.01650563284594206,
          0.6838867256259293,
          0.3331051092653049,
          0.10646361151290129,
          -0.21591375308268712,
          0.146041211736277,
          0.3105587907362801,
          -0.06094859681130034,
          0.030557208820885414,
          0.2789662745899663,
          0.013308509461080129,
          -0.01669614818714582,
          0.0038052880439170267,
          0.01735954903081702,
          0.03327791188334161,
          0.2477850250518909,
          -0.19360051706601944,
          -0.12808980483779905,
          -0.026174564643690154,
          -0.018114120172047096,
          -0.14713294117709577,
          -0.06599844944540208,
          -0.054172691516922486,
          -0.027268631786577693,
          0.023483419121670276,
          0.07312039383573535,
          -0.11040443753606123,
          -0.09206159410316694,
          -0.09586929195314405,
          0.04059134302985438,
          0.03307914121332937,
          -0.03901654276456571,
          0.1825286744315896,
          0.025974205933283284,
          -0.020493662688230684,
          0.016931059867295956,
          0.14105884491413345,
          -0.09255456615498725,
          0.09917790256249354,
          -0.13793301127332594,
          0.06516025390193748,
          -0.08043353046967808,
          -0.041091750959428956,
          0.08465714538709519,
          0.055590459549856246,
          0.032733755989811535,
          0.07355353183079763,
          -0.05817325095846457,
          -0.08366748624113375,
          0.01704631412564209,
          0.06096489861491272,
          -0.022295493931104,
          0.09860928692770288,
          0.026906010419196963,
          0.05474590386589865,
          -0.00469369525663639,
          0.0612033665491117,
          0.05198849254553251,
          0.09670963298584223,
          -0.015642286539164683,
          0.09420662270087338,
          -0.05676194981291186,
          0.044788575426850795,
          0.021782155243681156,
          -0.008952496107464587,
          -0.07413729061698901,
          0.05474135942813464,
          -0.025457935780901792,
          -0.0111184838325353,
          0.00858174860807652,
          -0.06339953106286603,
          0.008617338348389632,
          -0.08412352418262536,
          -0.020793880084292924,
          0.09731054620687551,
          -0.0014730258026670502,
          0.0220154819993965,
          0.015408988859000331,
          0.10952885831203901,
          0.1252378053559072,
          -0.0944716918532229,
          -0.003094315851243791,
          -0.08067966580087091,
          0.10755827111724099,
          0.02285207345952825,
          -0.008508597043387732,
          -0.03295682728700236,
          0.060282554007524025,
          0.038784223810200635,
          0.05736467169782389,
          -0.09654709838524606,
          -0.03233602750337163,
          0.031091529566439187,
          0.0970958878285734,
          0.047227356724765523,
          0.046826353381697224,
          0.018898438282964683,
          0.04081303330977452,
          0.056182656709570136
         ],
         "y": [
          0.11290258881107681,
          0.08809064244738207,
          0.05201855358949784,
          0.07097837395594642,
          0.08322839472257282,
          0.10065295928885765,
          0.08108921708106587,
          0.072197007228893,
          0.09227705990038008,
          0.08733115180156517,
          0.07390458939147257,
          0.08826344764081057,
          0.08988520571658813,
          0.08877709876324215,
          0.08804448809744435,
          0.08718409722707006,
          0.07558994250711458,
          0.09944692417487588,
          0.0959060563585641,
          0.09039751612566532,
          0.08996184740151253,
          0.09693534189511191,
          0.09255000550058844,
          0.0919108207897495,
          0.09045665068554674,
          0.08771349162711997,
          0.08503060267222928,
          0.0949501585249362,
          0.09395872396771576,
          0.09416453083979272,
          0.0867888047307332,
          0.0871948408237176,
          0.09109162775228874,
          0.0791170620248573,
          0.08757886407448691,
          0.09009046217650914,
          0.08806764802712828,
          0.08135851505890082,
          0.09398536921111582,
          0.08362218882836184,
          0.09643808374296271,
          0.08546084991495093,
          0.09333022467522739,
          0.09120379319301451,
          0.0844070388170435,
          0.0859780993185593,
          0.08721350896791245,
          0.0850071914722198,
          0.09212705187153733,
          0.09350502066692155,
          0.08806141851015022,
          0.08568760975328192,
          0.09018785153530727,
          0.08365292262337948,
          0.08752849984544643,
          0.08602374773144772,
          0.08923647060361327,
          0.08567472051113041,
          0.08617278639502697,
          0.08375559931969491,
          0.08982824427218829,
          0.08389088755364156,
          0.09205077074688701,
          0.08656194343421224,
          0.08780544529863006,
          0.08946665968805255,
          0.09298991158291203,
          0.08602399335926758,
          0.090358782184449,
          0.08958373178153721,
          0.08851893006208995,
          0.09240953341373515,
          0.08851700642911789,
          0.09352966961386659,
          0.09010668899010126,
          0.08372311983332724,
          0.08906239274018217,
          0.08779283393826019,
          0.08814991628622826,
          0.0830627174864239,
          0.0822136455846866,
          0.09408899025954921,
          0.08915002380934095,
          0.09334352834180396,
          0.08316922814002492,
          0.08774761599334971,
          0.08944266684999264,
          0.09076409885234697,
          0.08572449062326117,
          0.08688647990579187,
          0.08588220277766745,
          0.09420116642044032,
          0.09073054449307556,
          0.08730227165254575,
          0.08373472216395957,
          0.08643012679056583,
          0.08645180110585579,
          0.08796131080871612,
          0.08677682232433494,
          0.08594609093714471
         ]
        }
       ],
       "layout": {
        "height": 470,
        "template": {
         "data": {
          "bar": [
           {
            "error_x": {
             "color": "#2a3f5f"
            },
            "error_y": {
             "color": "#2a3f5f"
            },
            "marker": {
             "line": {
              "color": "#E5ECF6",
              "width": 0.5
             },
             "pattern": {
              "fillmode": "overlay",
              "size": 10,
              "solidity": 0.2
             }
            },
            "type": "bar"
           }
          ],
          "barpolar": [
           {
            "marker": {
             "line": {
              "color": "#E5ECF6",
              "width": 0.5
             },
             "pattern": {
              "fillmode": "overlay",
              "size": 10,
              "solidity": 0.2
             }
            },
            "type": "barpolar"
           }
          ],
          "carpet": [
           {
            "aaxis": {
             "endlinecolor": "#2a3f5f",
             "gridcolor": "white",
             "linecolor": "white",
             "minorgridcolor": "white",
             "startlinecolor": "#2a3f5f"
            },
            "baxis": {
             "endlinecolor": "#2a3f5f",
             "gridcolor": "white",
             "linecolor": "white",
             "minorgridcolor": "white",
             "startlinecolor": "#2a3f5f"
            },
            "type": "carpet"
           }
          ],
          "choropleth": [
           {
            "colorbar": {
             "outlinewidth": 0,
             "ticks": ""
            },
            "type": "choropleth"
           }
          ],
          "contour": [
           {
            "colorbar": {
             "outlinewidth": 0,
             "ticks": ""
            },
            "colorscale": [
             [
              0,
              "#0d0887"
             ],
             [
              0.1111111111111111,
              "#46039f"
             ],
             [
              0.2222222222222222,
              "#7201a8"
             ],
             [
              0.3333333333333333,
              "#9c179e"
             ],
             [
              0.4444444444444444,
              "#bd3786"
             ],
             [
              0.5555555555555556,
              "#d8576b"
             ],
             [
              0.6666666666666666,
              "#ed7953"
             ],
             [
              0.7777777777777778,
              "#fb9f3a"
             ],
             [
              0.8888888888888888,
              "#fdca26"
             ],
             [
              1,
              "#f0f921"
             ]
            ],
            "type": "contour"
           }
          ],
          "contourcarpet": [
           {
            "colorbar": {
             "outlinewidth": 0,
             "ticks": ""
            },
            "type": "contourcarpet"
           }
          ],
          "heatmap": [
           {
            "colorbar": {
             "outlinewidth": 0,
             "ticks": ""
            },
            "colorscale": [
             [
              0,
              "#0d0887"
             ],
             [
              0.1111111111111111,
              "#46039f"
             ],
             [
              0.2222222222222222,
              "#7201a8"
             ],
             [
              0.3333333333333333,
              "#9c179e"
             ],
             [
              0.4444444444444444,
              "#bd3786"
             ],
             [
              0.5555555555555556,
              "#d8576b"
             ],
             [
              0.6666666666666666,
              "#ed7953"
             ],
             [
              0.7777777777777778,
              "#fb9f3a"
             ],
             [
              0.8888888888888888,
              "#fdca26"
             ],
             [
              1,
              "#f0f921"
             ]
            ],
            "type": "heatmap"
           }
          ],
          "heatmapgl": [
           {
            "colorbar": {
             "outlinewidth": 0,
             "ticks": ""
            },
            "colorscale": [
             [
              0,
              "#0d0887"
             ],
             [
              0.1111111111111111,
              "#46039f"
             ],
             [
              0.2222222222222222,
              "#7201a8"
             ],
             [
              0.3333333333333333,
              "#9c179e"
             ],
             [
              0.4444444444444444,
              "#bd3786"
             ],
             [
              0.5555555555555556,
              "#d8576b"
             ],
             [
              0.6666666666666666,
              "#ed7953"
             ],
             [
              0.7777777777777778,
              "#fb9f3a"
             ],
             [
              0.8888888888888888,
              "#fdca26"
             ],
             [
              1,
              "#f0f921"
             ]
            ],
            "type": "heatmapgl"
           }
          ],
          "histogram": [
           {
            "marker": {
             "pattern": {
              "fillmode": "overlay",
              "size": 10,
              "solidity": 0.2
             }
            },
            "type": "histogram"
           }
          ],
          "histogram2d": [
           {
            "colorbar": {
             "outlinewidth": 0,
             "ticks": ""
            },
            "colorscale": [
             [
              0,
              "#0d0887"
             ],
             [
              0.1111111111111111,
              "#46039f"
             ],
             [
              0.2222222222222222,
              "#7201a8"
             ],
             [
              0.3333333333333333,
              "#9c179e"
             ],
             [
              0.4444444444444444,
              "#bd3786"
             ],
             [
              0.5555555555555556,
              "#d8576b"
             ],
             [
              0.6666666666666666,
              "#ed7953"
             ],
             [
              0.7777777777777778,
              "#fb9f3a"
             ],
             [
              0.8888888888888888,
              "#fdca26"
             ],
             [
              1,
              "#f0f921"
             ]
            ],
            "type": "histogram2d"
           }
          ],
          "histogram2dcontour": [
           {
            "colorbar": {
             "outlinewidth": 0,
             "ticks": ""
            },
            "colorscale": [
             [
              0,
              "#0d0887"
             ],
             [
              0.1111111111111111,
              "#46039f"
             ],
             [
              0.2222222222222222,
              "#7201a8"
             ],
             [
              0.3333333333333333,
              "#9c179e"
             ],
             [
              0.4444444444444444,
              "#bd3786"
             ],
             [
              0.5555555555555556,
              "#d8576b"
             ],
             [
              0.6666666666666666,
              "#ed7953"
             ],
             [
              0.7777777777777778,
              "#fb9f3a"
             ],
             [
              0.8888888888888888,
              "#fdca26"
             ],
             [
              1,
              "#f0f921"
             ]
            ],
            "type": "histogram2dcontour"
           }
          ],
          "mesh3d": [
           {
            "colorbar": {
             "outlinewidth": 0,
             "ticks": ""
            },
            "type": "mesh3d"
           }
          ],
          "parcoords": [
           {
            "line": {
             "colorbar": {
              "outlinewidth": 0,
              "ticks": ""
             }
            },
            "type": "parcoords"
           }
          ],
          "pie": [
           {
            "automargin": true,
            "type": "pie"
           }
          ],
          "scatter": [
           {
            "fillpattern": {
             "fillmode": "overlay",
             "size": 10,
             "solidity": 0.2
            },
            "type": "scatter"
           }
          ],
          "scatter3d": [
           {
            "line": {
             "colorbar": {
              "outlinewidth": 0,
              "ticks": ""
             }
            },
            "marker": {
             "colorbar": {
              "outlinewidth": 0,
              "ticks": ""
             }
            },
            "type": "scatter3d"
           }
          ],
          "scattercarpet": [
           {
            "marker": {
             "colorbar": {
              "outlinewidth": 0,
              "ticks": ""
             }
            },
            "type": "scattercarpet"
           }
          ],
          "scattergeo": [
           {
            "marker": {
             "colorbar": {
              "outlinewidth": 0,
              "ticks": ""
             }
            },
            "type": "scattergeo"
           }
          ],
          "scattergl": [
           {
            "marker": {
             "colorbar": {
              "outlinewidth": 0,
              "ticks": ""
             }
            },
            "type": "scattergl"
           }
          ],
          "scattermapbox": [
           {
            "marker": {
             "colorbar": {
              "outlinewidth": 0,
              "ticks": ""
             }
            },
            "type": "scattermapbox"
           }
          ],
          "scatterpolar": [
           {
            "marker": {
             "colorbar": {
              "outlinewidth": 0,
              "ticks": ""
             }
            },
            "type": "scatterpolar"
           }
          ],
          "scatterpolargl": [
           {
            "marker": {
             "colorbar": {
              "outlinewidth": 0,
              "ticks": ""
             }
            },
            "type": "scatterpolargl"
           }
          ],
          "scatterternary": [
           {
            "marker": {
             "colorbar": {
              "outlinewidth": 0,
              "ticks": ""
             }
            },
            "type": "scatterternary"
           }
          ],
          "surface": [
           {
            "colorbar": {
             "outlinewidth": 0,
             "ticks": ""
            },
            "colorscale": [
             [
              0,
              "#0d0887"
             ],
             [
              0.1111111111111111,
              "#46039f"
             ],
             [
              0.2222222222222222,
              "#7201a8"
             ],
             [
              0.3333333333333333,
              "#9c179e"
             ],
             [
              0.4444444444444444,
              "#bd3786"
             ],
             [
              0.5555555555555556,
              "#d8576b"
             ],
             [
              0.6666666666666666,
              "#ed7953"
             ],
             [
              0.7777777777777778,
              "#fb9f3a"
             ],
             [
              0.8888888888888888,
              "#fdca26"
             ],
             [
              1,
              "#f0f921"
             ]
            ],
            "type": "surface"
           }
          ],
          "table": [
           {
            "cells": {
             "fill": {
              "color": "#EBF0F8"
             },
             "line": {
              "color": "white"
             }
            },
            "header": {
             "fill": {
              "color": "#C8D4E3"
             },
             "line": {
              "color": "white"
             }
            },
            "type": "table"
           }
          ]
         },
         "layout": {
          "annotationdefaults": {
           "arrowcolor": "#2a3f5f",
           "arrowhead": 0,
           "arrowwidth": 1
          },
          "autotypenumbers": "strict",
          "coloraxis": {
           "colorbar": {
            "outlinewidth": 0,
            "ticks": ""
           }
          },
          "colorscale": {
           "diverging": [
            [
             0,
             "#8e0152"
            ],
            [
             0.1,
             "#c51b7d"
            ],
            [
             0.2,
             "#de77ae"
            ],
            [
             0.3,
             "#f1b6da"
            ],
            [
             0.4,
             "#fde0ef"
            ],
            [
             0.5,
             "#f7f7f7"
            ],
            [
             0.6,
             "#e6f5d0"
            ],
            [
             0.7,
             "#b8e186"
            ],
            [
             0.8,
             "#7fbc41"
            ],
            [
             0.9,
             "#4d9221"
            ],
            [
             1,
             "#276419"
            ]
           ],
           "sequential": [
            [
             0,
             "#0d0887"
            ],
            [
             0.1111111111111111,
             "#46039f"
            ],
            [
             0.2222222222222222,
             "#7201a8"
            ],
            [
             0.3333333333333333,
             "#9c179e"
            ],
            [
             0.4444444444444444,
             "#bd3786"
            ],
            [
             0.5555555555555556,
             "#d8576b"
            ],
            [
             0.6666666666666666,
             "#ed7953"
            ],
            [
             0.7777777777777778,
             "#fb9f3a"
            ],
            [
             0.8888888888888888,
             "#fdca26"
            ],
            [
             1,
             "#f0f921"
            ]
           ],
           "sequentialminus": [
            [
             0,
             "#0d0887"
            ],
            [
             0.1111111111111111,
             "#46039f"
            ],
            [
             0.2222222222222222,
             "#7201a8"
            ],
            [
             0.3333333333333333,
             "#9c179e"
            ],
            [
             0.4444444444444444,
             "#bd3786"
            ],
            [
             0.5555555555555556,
             "#d8576b"
            ],
            [
             0.6666666666666666,
             "#ed7953"
            ],
            [
             0.7777777777777778,
             "#fb9f3a"
            ],
            [
             0.8888888888888888,
             "#fdca26"
            ],
            [
             1,
             "#f0f921"
            ]
           ]
          },
          "colorway": [
           "#636efa",
           "#EF553B",
           "#00cc96",
           "#ab63fa",
           "#FFA15A",
           "#19d3f3",
           "#FF6692",
           "#B6E880",
           "#FF97FF",
           "#FECB52"
          ],
          "font": {
           "color": "#2a3f5f"
          },
          "geo": {
           "bgcolor": "white",
           "lakecolor": "white",
           "landcolor": "#E5ECF6",
           "showlakes": true,
           "showland": true,
           "subunitcolor": "white"
          },
          "hoverlabel": {
           "align": "left"
          },
          "hovermode": "closest",
          "mapbox": {
           "style": "light"
          },
          "paper_bgcolor": "white",
          "plot_bgcolor": "#E5ECF6",
          "polar": {
           "angularaxis": {
            "gridcolor": "white",
            "linecolor": "white",
            "ticks": ""
           },
           "bgcolor": "#E5ECF6",
           "radialaxis": {
            "gridcolor": "white",
            "linecolor": "white",
            "ticks": ""
           }
          },
          "scene": {
           "xaxis": {
            "backgroundcolor": "#E5ECF6",
            "gridcolor": "white",
            "gridwidth": 2,
            "linecolor": "white",
            "showbackground": true,
            "ticks": "",
            "zerolinecolor": "white"
           },
           "yaxis": {
            "backgroundcolor": "#E5ECF6",
            "gridcolor": "white",
            "gridwidth": 2,
            "linecolor": "white",
            "showbackground": true,
            "ticks": "",
            "zerolinecolor": "white"
           },
           "zaxis": {
            "backgroundcolor": "#E5ECF6",
            "gridcolor": "white",
            "gridwidth": 2,
            "linecolor": "white",
            "showbackground": true,
            "ticks": "",
            "zerolinecolor": "white"
           }
          },
          "shapedefaults": {
           "line": {
            "color": "#2a3f5f"
           }
          },
          "ternary": {
           "aaxis": {
            "gridcolor": "white",
            "linecolor": "white",
            "ticks": ""
           },
           "baxis": {
            "gridcolor": "white",
            "linecolor": "white",
            "ticks": ""
           },
           "bgcolor": "#E5ECF6",
           "caxis": {
            "gridcolor": "white",
            "linecolor": "white",
            "ticks": ""
           }
          },
          "title": {
           "x": 0.05
          },
          "xaxis": {
           "automargin": true,
           "gridcolor": "white",
           "linecolor": "white",
           "ticks": "",
           "title": {
            "standoff": 15
           },
           "zerolinecolor": "white",
           "zerolinewidth": 2
          },
          "yaxis": {
           "automargin": true,
           "gridcolor": "white",
           "linecolor": "white",
           "ticks": "",
           "title": {
            "standoff": 15
           },
           "zerolinecolor": "white",
           "zerolinewidth": 2
          }
         }
        },
        "width": 900,
        "xaxis": {
         "title": {
          "text": "Return"
         }
        },
        "yaxis": {
         "title": {
          "text": "Standard Deviation"
         }
        }
       }
      }
     },
     "metadata": {},
     "output_type": "display_data"
    }
   ],
   "source": [
    "fig = go.Figure()\n",
    "fig.add_trace(go.Scatter(name='Risk-Return Relationship',\n",
    "                         x=portfolio[:, 0],\n",
    "                         y=portfolio[:, 1], mode='markers'))\n",
    "fig.add_trace(go.Scatter(name='Best Fit Line',\n",
    "                         x=portfolio[:, 0],\n",
    "                         y=best_fit, mode='lines'))\n",
    "fig.update_layout(xaxis_title = 'Return',\n",
    "                  yaxis_title = 'Standard Deviation',\n",
    "                  width=900, height=470)\n",
    "fig.show()"
   ]
  },
  {
   "cell_type": "markdown",
   "metadata": {},
   "source": [
    "## Adverse Selection"
   ]
  },
  {
   "cell_type": "code",
   "execution_count": 10,
   "metadata": {},
   "outputs": [],
   "source": [
    "import matplotlib.pyplot as plt\n",
    "import numpy as np\n",
    "plt.style.use('seaborn')"
   ]
  },
  {
   "cell_type": "code",
   "execution_count": 11,
   "metadata": {},
   "outputs": [],
   "source": [
    "def utility(x):\n",
    "    return(np.exp(x**gamma))"
   ]
  },
  {
   "cell_type": "code",
   "execution_count": 12,
   "metadata": {},
   "outputs": [],
   "source": [
    "pi = np.random.uniform(0,1,20)\n",
    "pi = np.sort(pi)"
   ]
  },
  {
   "cell_type": "code",
   "execution_count": 13,
   "metadata": {},
   "outputs": [
    {
     "name": "stdout",
     "output_type": "stream",
     "text": [
      "The highest three probability of losses are [0.92182928 0.96974396 0.99188674]\n"
     ]
    }
   ],
   "source": [
    "print('The highest three probability of losses are {}'\n",
    "      .format(pi[-3:]))"
   ]
  },
  {
   "cell_type": "code",
   "execution_count": 14,
   "metadata": {},
   "outputs": [],
   "source": [
    "y = 2\n",
    "c = 1.5\n",
    "Q = 5\n",
    "D = 0.01\n",
    "gamma = 0.4"
   ]
  },
  {
   "cell_type": "code",
   "execution_count": 15,
   "metadata": {},
   "outputs": [],
   "source": [
    "def supply(Q):\n",
    "    return(np.mean(pi[-Q:]) * c)"
   ]
  },
  {
   "cell_type": "code",
   "execution_count": 16,
   "metadata": {},
   "outputs": [],
   "source": [
    "def demand(D):\n",
    "    return(np.sum(utility(y - D) > pi * utility(y - c) + (1 - pi) \n",
    "                  * utility(y)))"
   ]
  },
  {
   "cell_type": "code",
   "execution_count": 18,
   "metadata": {},
   "outputs": [
    {
     "data": {
      "image/png": "[encoded data removed]",
      "text/plain": [
       "<Figure size 2400x1650 with 1 Axes>"
      ]
     },
     "metadata": {},
     "output_type": "display_data"
    }
   ],
   "source": [
    "plt.figure()\n",
    "plt.plot([demand(i) for i in np.arange(0, 1.9, 0.02)],\n",
    "         np.arange(0, 1.9, 0.02), \n",
    "         'r', label='insurance demand')\n",
    "plt.plot(range(1,21), [supply(j) for j in range(1,21)],\n",
    "         'g', label='insurance supply')\n",
    "plt.ylabel(\"Average Cost\")\n",
    "plt.xlabel(\"Number of People\")\n",
    "plt.legend()\n",
    "plt.show()\n"
   ]
  },
  {
   "cell_type": "code",
   "execution_count": null,
   "metadata": {},
   "outputs": [],
   "source": []
  }
 ],
 "metadata": {
  "kernelspec": {
   "display_name": "Python 3",
   "language": "python",
   "name": "python3"
  },
  "language_info": {
   "codemirror_mode": {
    "name": "ipython",
    "version": 3
   },
   "file_extension": ".py",
   "mimetype": "text/x-python",
   "name": "python",
   "nbconvert_exporter": "python",
   "pygments_lexer": "ipython3",
   "version": "3.10.12"
  },
  "latex_envs": {
   "LaTeX_envs_menu_present": true,
   "autoclose": false,
   "autocomplete": true,
   "bibliofile": "biblio.bib",
   "cite_by": "apalike",
   "current_citInitial": 1,
   "eqLabelWithNumbers": true,
   "eqNumInitial": 1,
   "hotkeys": {
    "equation": "Ctrl-E",
    "itemize": "Ctrl-I"
   },
   "labels_anchors": false,
   "latex_user_defs": false,
   "report_style_numbering": false,
   "user_envs_cfg": false
  },
  "toc": {
   "base_numbering": 1,
   "nav_menu": {},
   "number_sections": false,
   "sideBar": true,
   "skip_h1_title": false,
   "title_cell": "Table of Contents",
   "title_sidebar": "Contents",
   "toc_cell": false,
   "toc_position": {},
   "toc_section_display": true,
   "toc_window_display": false
  }
 },
 "nbformat": 4,
 "nbformat_minor": 4
}
